{
 "cells": [
  {
   "cell_type": "code",
   "execution_count": null,
   "metadata": {},
   "outputs": [],
   "source": [
    "grouped = combo.groupby('console')\n",
    "combogc = grouped.get_group('GC')\n",
    "combon64 = grouped.get_group('N64')\n",
    "combods = grouped.get_group('DS')\n",
    "combo3ds = grouped.get_group('3DS')\n",
    "combonintendo = combogc.append(combon64, ignore_index = True) \n",
    "combonintendo = combonintendo.append(combods, ignore_index = True)\n",
    "combonintendo = combonintendo.append(combo3ds, ignore_index = True)\n",
    "comboxbox = grouped.get_group('XBOX')\n",
    "combox360 = grouped.get_group('X360')\n",
    "comboxone = grouped.get_group('XONE')\n",
    "comboxbox = comboxbox.append(combox360, ignore_index = True)\n",
    "comboxbox = comboxbox.append(comboxone, ignore_index = True)\n",
    "combosony = grouped.get_group('PS')\n",
    "combosony = combosony.append(grouped.get_group('PS2'), ignore_index = True)\n",
    "combosony = combosony.append(grouped.get_group('PS3'), ignore_index = True)\n",
    "combosony = combosony.append(grouped.get_group('PS4'), ignore_index = True)\n",
    "combopc = grouped.get_group('PC')"
   ]
  }
 ],
 "metadata": {
  "kernelspec": {
   "display_name": "Python 3",
   "language": "python",
   "name": "python3"
  },
  "language_info": {
   "codemirror_mode": {
    "name": "ipython",
    "version": 3
   },
   "file_extension": ".py",
   "mimetype": "text/x-python",
   "name": "python",
   "nbconvert_exporter": "python",
   "pygments_lexer": "ipython3",
   "version": "3.7.3"
  }
 },
 "nbformat": 4,
 "nbformat_minor": 2
}
