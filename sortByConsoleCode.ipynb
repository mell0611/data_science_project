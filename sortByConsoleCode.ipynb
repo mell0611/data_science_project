{
 "cells": [
  {
   "cell_type": "markdown",
   "metadata": {},
   "source": [
    "# This code is used to sort the dataframe \"combo\" into 3 dataframes, each containing the information for a branch of consoles.\n",
    "## This code was made by Noah Kim\n",
    "### Just copy the next cell and put it at the end of your code to use it"
   ]
  },
  {
   "cell_type": "code",
   "execution_count": null,
   "metadata": {},
   "outputs": [],
   "source": [
    "grouped = combo.groupby('console')#This line of code splits the combo dataframe into multiple dataframes according to the console and stores them in an array \"grouped\".\n",
    "combonintendo = grouped.get_group('GC')#Creates a dataframe called combonintendo, in which I'll store information that relates to Nintendo. It stores information on the Nintendo GameCube as of this line.\n",
    "combonintendo = combonintendo.append(grouped.get_group('N64'), ignore_index = True)#This line adds information on the Nintendo 64 to the dataframe, combonintendo.\n",
    "combonintendo = combonintendo.append(grouped.get_group('DS'), ignore_index = True)#This line adds information on the Nintendo DS to the dataframe, combonintendo.\n",
    "combonintendo = combonintendo.append(grouped.get_group('3DS'), ignore_index = True)#This line adds information on the Nintendo 3DS to the dataframe, combonintendo.\n",
    "combonintendo = combonintendo.append(grouped.get_group('WII'), ignore_index = True)#This line adds information on the Nintendo Wii to the dataframe, combonintendo.\n",
    "combonintendo = combonintendo.append(grouped.get_group('GBA'), ignore_index = True)#This line adds information on the Nintendo Gameboy Advance to the dataframe, combonintendo.\n",
    "combonintendo = combonintendo.append(grouped.get_group('WIIU'), ignore_index = True)#This line adds information on the Nintendo Wii U to the dataframe, combonintendo.\n",
    "comboxbox = grouped.get_group('XONE')#Creates a dataframe called comboxbox, in which I'll store information that relates to the XBOX Line of consoles. It stores information on the XBOX One as of this line.\n",
    "comboxbox = comboxbox.append(grouped.get_group('X360'), ignore_index = True)#This line adds information on the Xbox 360 to the dataframe, comboxbox.\n",
    "comboxbox = comboxbox.append(grouped.get_group('XBOX'), ignore_index = True)#This line adds information on the Xbox to the dataframe, comboxbox.\n",
    "comboxbox = comboxbox.append(grouped.get_group('XB'), ignore_index = True)#This line adds information on the Xbox to the dataframe, comboxbox.\n",
    "combosony = grouped.get_group('PS')#Creates a dataframe called combosony, in which I'll store information that relates to the Playstation Line of consoles. It stores information on the original Playstation as of this line.\n",
    "combosony = combosony.append(grouped.get_group('PS2'), ignore_index = True)#This line adds information on the Playstation 2 to the dataframe, combosony.\n",
    "combosony = combosony.append(grouped.get_group('PS3'), ignore_index = True)#This line adds information on the Playstation 3 to the dataframe, combosony.\n",
    "combosony = combosony.append(grouped.get_group('PS4'), ignore_index = True)#This line adds information on the Playstation 4 to the dataframe, combosony.\n",
    "combosony = combosony.append(grouped.get_group('PSP'), ignore_index = True)#This line adds information on the Playstation Portable to the dataframe, combosony.\n",
    "combosony = combosony.append(grouped.get_group('PSV'), ignore_index = True)#This line adds information on the Playstation Vita to the dataframe, combosony.\n",
    "combopc = grouped.get_group('PC')#Creates a dataframe called combosony, in which I'll store information that relates to the personal computer."
   ]
  }
 ],
 "metadata": {
  "kernelspec": {
   "display_name": "Python 3",
   "language": "python",
   "name": "python3"
  },
  "language_info": {
   "codemirror_mode": {
    "name": "ipython",
    "version": 3
   },
   "file_extension": ".py",
   "mimetype": "text/x-python",
   "name": "python",
   "nbconvert_exporter": "python",
   "pygments_lexer": "ipython3",
   "version": "3.7.3"
  }
 },
 "nbformat": 4,
 "nbformat_minor": 2
}
